{
  "nbformat": 4,
  "nbformat_minor": 0,
  "metadata": {
    "colab": {
      "name": "SaveFrameFromVideo",
      "provenance": [],
      "authorship_tag": "ABX9TyOYIC/WkutqcIL5K/ho5Vis"
    },
    "kernelspec": {
      "name": "python3",
      "display_name": "Python 3"
    },
    "language_info": {
      "name": "python"
    }
  },
  "cells": [
    {
      "cell_type": "code",
      "metadata": {
        "id": "YYmVSunBiGHg"
      },
      "source": [
        "#https://stackoverflow.com/questions/33311153/python-extracting-and-saving-video-frames?fbclid=IwAR1mz-gd8o8Ldo3NyKvSvB7qPpmM22Goesf2ppSpdkNkQAhHL4ENEWepb9s\n",
        "import cv2\n",
        "vidcap = cv2.VideoCapture('sample.mp4')\n",
        "success,image = vidcap.read()\n",
        "count = 0\n",
        "while success:\n",
        "  cv2.imwrite(\"frame%d.jpg\" % count, image)     # save frame as JPEG file      \n",
        "  success,image = vidcap.read()\n",
        "\n",
        "  print('Read a new frame: ', success)\n",
        "  count += 1"
      ],
      "execution_count": null,
      "outputs": []
    }
  ]
}