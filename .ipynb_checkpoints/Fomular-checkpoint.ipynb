{
 "cells": [
  {
   "cell_type": "code",
   "execution_count": 3,
   "id": "7cae9b69-b44d-4af0-98df-c10bc6b651ce",
   "metadata": {},
   "outputs": [],
   "source": [
    "import numpy as np\n",
    "import matplotlib.pyplot as plt\n",
    "import pandas as pd\n",
    "import math"
   ]
  },
  {
   "cell_type": "code",
   "execution_count": 4,
   "id": "2c8c011a-5347-46f4-8a60-6009eca1ae0d",
   "metadata": {},
   "outputs": [],
   "source": [
    "blk = 1\n",
    "whe = 0"
   ]
  },
  {
   "cell_type": "markdown",
   "id": "fe38487a-cb8d-4a0a-a854-8dfd1d79e730",
   "metadata": {},
   "source": [
    "<br> 1/2 Tex <= Ts <= Tex\n",
    "<br> Tex = nTr (n>3)\n",
    "<br> Tr = T row = 1\n",
    "<br> 3Ts > Tex + Tr\n",
    "<br> 2Ts > tex"
   ]
  },
  {
   "cell_type": "code",
   "execution_count": 5,
   "id": "9d7ee220-f62b-4a5e-ad55-b1c18c464599",
   "metadata": {},
   "outputs": [],
   "source": [
    "Tr=1\n",
    "Tex= 3\n",
    "Ts=12\n"
   ]
  },
  {
   "cell_type": "code",
   "execution_count": 11,
   "id": "fa79fbbd-912e-4f1a-ab5e-f376c72dbed8",
   "metadata": {},
   "outputs": [
    {
     "name": "stdout",
     "output_type": "stream",
     "text": [
      "hang 0 3 0 3 0\n",
      "hang 1 4 0 3 0\n",
      "hang 2 5 0 3 0\n",
      "hang 3 6 0 3 0\n",
      "hang 4 7 0 3 0\n",
      "hang 5 8 0 3 0\n",
      "hang 6 9 0 3 0\n",
      "hang 7 10 0 3 0\n",
      "hang 8 11 0 3 0\n",
      "hang 9 12 0 3 0\n",
      "hang 10 13 1 2 1\n",
      "hang 11 14 2 1 2\n",
      "hang 12 15 3 0 3\n",
      "hang 13 16 3 0 3\n",
      "hang 14 17 3 0 3\n",
      "hang 15 18 3 0 3\n",
      "hang 16 19 3 0 3\n",
      "hang 17 20 3 0 3\n",
      "hang 18 21 3 0 3\n",
      "hang 19 22 3 0 3\n",
      "hang 20 23 3 0 3\n",
      "hang 21 24 3 0 3\n",
      "hang 22 25 2 1 2\n",
      "hang 23 26 1 2 1\n",
      "hang 24 27 0 3 0\n",
      "hang 25 28 0 3 0\n",
      "hang 26 29 0 3 0\n",
      "hang 27 30 0 3 0\n",
      "hang 28 31 0 3 0\n",
      "hang 29 32 0 3 0\n",
      "hang 30 33 0 3 0\n",
      "hang 31 34 0 3 0\n",
      "hang 32 35 0 3 0\n",
      "hang 33 36 0 3 0\n",
      "hang 34 37 1 2 1\n",
      "hang 35 38 2 1 2\n",
      "hang 36 39 3 0 3\n",
      "hang 37 40 3 0 3\n",
      "hang 38 41 3 0 3\n",
      "hang 39 42 3 0 3\n",
      "hang 40 43 3 0 3\n",
      "hang 41 44 3 0 3\n",
      "hang 42 45 3 0 3\n",
      "hang 43 46 3 0 3\n",
      "hang 44 47 3 0 3\n",
      "hang 45 48 3 0 3\n",
      "hang 46 49 2 1 2\n",
      "hang 47 50 1 2 1\n",
      "hang 48 51 0 3 0\n",
      "hang 49 52 0 3 0\n",
      "hang 50 53 0 3 0\n",
      "hang 51 54 0 3 0\n",
      "hang 52 55 0 3 0\n",
      "hang 53 56 0 3 0\n",
      "hang 54 57 0 3 0\n",
      "hang 55 58 0 3 0\n",
      "hang 56 59 0 3 0\n",
      "hang 57 60 0 3 0\n",
      "hang 58 61 1 2 1\n",
      "hang 59 62 2 1 2\n",
      "hang 60 63 3 0 3\n",
      "hang 61 64 3 0 3\n",
      "hang 62 65 3 0 3\n",
      "hang 63 66 3 0 3\n",
      "hang 64 67 3 0 3\n",
      "hang 65 68 3 0 3\n",
      "hang 66 69 3 0 3\n",
      "hang 67 70 3 0 3\n",
      "hang 68 71 3 0 3\n",
      "hang 69 72 3 0 3\n",
      "hang 70 73 2 1 2\n",
      "hang 71 74 1 2 1\n",
      "hang 72 75 0 3 0\n",
      "hang 73 76 0 3 0\n",
      "hang 74 77 0 3 0\n",
      "hang 75 78 0 3 0\n",
      "hang 76 79 0 3 0\n",
      "hang 77 80 0 3 0\n",
      "hang 78 81 0 3 0\n",
      "hang 79 82 0 3 0\n",
      "hang 80 83 0 3 0\n",
      "hang 81 84 0 3 0\n",
      "hang 82 85 1 2 1\n",
      "hang 83 86 2 1 2\n",
      "hang 84 87 3 0 3\n",
      "hang 85 88 3 0 3\n",
      "hang 86 89 3 0 3\n",
      "hang 87 90 3 0 3\n",
      "hang 88 91 3 0 3\n",
      "hang 89 92 3 0 3\n",
      "hang 90 93 3 0 3\n",
      "hang 91 94 3 0 3\n",
      "hang 92 95 3 0 3\n",
      "hang 93 96 3 0 3\n",
      "hang 94 97 2 1 2\n",
      "hang 95 98 1 2 1\n",
      "hang 96 99 0 3 0\n",
      "hang 97 100 0 3 0\n",
      "hang 98 101 0 3 0\n",
      "hang 99 102 0 3 0\n"
     ]
    }
   ],
   "source": [
    "arr= np.arange(0, 100,1)\n",
    "for i in range(100):\n",
    "    T= i*Tr + Tex\n",
    "    if(math.floor(T/Ts)%2==0):\n",
    "        m=T- math.floor(T/Ts)*Ts\n",
    "        if(Tex<Ts):\n",
    "            if(m>=Tex):\n",
    "                m=Tex\n",
    "                n=0\n",
    "            elif(0<m<Tex):\n",
    "                n=Tex-m\n",
    "            elif(m==0):\n",
    "                n=Tex\n",
    "                m=0\n",
    "        elif(Tex>=Ts):\n",
    "            if(m>0):\n",
    "                if(Tex-m>Ts):\n",
    "                    n=Ts\n",
    "                    k=Tex-m\n",
    "                    m+=k-Ts\n",
    "                else:\n",
    "                    n=Tex-m\n",
    "            elif(m==0):\n",
    "                n=Ts\n",
    "                m=Tex-Ts\n",
    "        arr[i]= m*whe + n*blk;\n",
    "    if (math.floor(T/Ts)%2==1):\n",
    "        n=T- math.floor(T/Ts)*Ts\n",
    "        if(Tex<Ts):\n",
    "            if(n>=Tex):\n",
    "                n=Tex\n",
    "                m=0\n",
    "            elif(0<n<Tex):\n",
    "                m=Tex-n\n",
    "            elif(n==0):\n",
    "                m=Tex\n",
    "                n=0\n",
    "        elif(Tex>=Ts):\n",
    "            if(n>0):\n",
    "                if(Tex-n>Ts):\n",
    "                    m=Ts\n",
    "                    k=Tex-n\n",
    "                    n+=k-Ts\n",
    "                else:\n",
    "                    m=Tex-n\n",
    "            elif(n==0):\n",
    "                m=Ts\n",
    "                n=Tex-Ts\n",
    "        arr[i]= m*whe + n*blk;\n",
    "    print(\"hang\",i, T,  arr[i], m, n)\n"
   ]
  },
  {
   "cell_type": "code",
   "execution_count": 12,
   "id": "f494529f-57bf-417d-ab9f-2d4bcd6edf64",
   "metadata": {},
   "outputs": [
    {
     "data": {
      "image/png": "[encoded data removed]",
      "text/plain": [
       "<Figure size 432x288 with 1 Axes>"
      ]
     },
     "metadata": {
      "needs_background": "light"
     },
     "output_type": "display_data"
    }
   ],
   "source": [
    "plt.scatter( x=np.arange(0,100,1) ,y= arr)\n",
    "plt.show()"
   ]
  },
  {
   "cell_type": "code",
   "execution_count": 13,
   "id": "6d953ecd-5cce-4298-acaf-7bf63bea1de8",
   "metadata": {},
   "outputs": [
    {
     "data": {
      "image/png": "[encoded data removed]",
      "text/plain": [
       "<Figure size 432x288 with 1 Axes>"
      ]
     },
     "metadata": {
      "needs_background": "light"
     },
     "output_type": "display_data"
    }
   ],
   "source": [
    "plt.plot(arr )\n",
    "plt.show()"
   ]
  },
  {
   "cell_type": "code",
   "execution_count": null,
   "id": "193685cd-16d5-4bd6-a04b-678a60b40029",
   "metadata": {},
   "outputs": [],
   "source": []
  },
  {
   "cell_type": "code",
   "execution_count": null,
   "id": "7f8edc17-6be3-425d-8add-228612ca3e73",
   "metadata": {},
   "outputs": [],
   "source": []
  },
  {
   "cell_type": "code",
   "execution_count": null,
   "id": "d4535577-f01b-4a3a-89b6-014d30f9084b",
   "metadata": {},
   "outputs": [],
   "source": []
  }
 ],
 "metadata": {
  "kernelspec": {
   "display_name": "Python 3 (ipykernel)",
   "language": "python",
   "name": "python3"
  },
  "language_info": {
   "codemirror_mode": {
    "name": "ipython",
    "version": 3
   },
   "file_extension": ".py",
   "mimetype": "text/x-python",
   "name": "python",
   "nbconvert_exporter": "python",
   "pygments_lexer": "ipython3",
   "version": "3.9.0"
  }
 },
 "nbformat": 4,
 "nbformat_minor": 5
}
